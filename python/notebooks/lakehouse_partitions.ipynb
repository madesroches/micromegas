{
 "cells": [
  {
   "cell_type": "code",
   "execution_count": null,
   "id": "6d364e56-ea88-43ac-96a0-a1c1ac4df211",
   "metadata": {},
   "outputs": [],
   "source": [
    "import micromegas\n",
    "import datetime\n",
    "import pandas as pd\n",
    "pd.set_option('display.max_colwidth', None)\n",
    "client = micromegas.connect()"
   ]
  },
  {
   "cell_type": "code",
   "execution_count": null,
   "id": "9d39d459-726d-4d67-821f-3272f2a818da",
   "metadata": {
    "scrolled": true
   },
   "outputs": [],
   "source": [
    "%%time\n",
    "sql = \"\"\"\n",
    "SELECT view_set_name, view_instance_id, min(begin_insert_time) as begin, max(end_insert_time) as end\n",
    "FROM list_partitions()\n",
    "where view_instance_id != 'global'\n",
    "group by view_set_name, view_instance_id\n",
    "\"\"\"\n",
    "df_instances = client.query(sql)\n",
    "for _, row in df_instances.iterrows():\n",
    "    client.retire_partitions(row[\"view_set_name\"], row[\"view_instance_id\"], row[\"begin\"], row[\"end\"])"
   ]
  },
  {
   "cell_type": "code",
   "execution_count": null,
   "id": "24043bdf-6060-4a1a-ba93-04f465798c87",
   "metadata": {},
   "outputs": [],
   "source": [
    "%%time\n",
    "sql = \"\"\"\n",
    "SELECT block_id, begin_time, end_time, property_get(\"streams.properties\", 'thread-name') as thread_name, property_get(\"streams.properties\", 'thread-id') as thread_id\n",
    "FROM blocks\n",
    "WHERE process_id = '5589319b-83a3-4d48-9485-5926453b35d1'\n",
    "AND ARRAY_HAS(blocks.\"streams.tags\", 'cpu')\n",
    "ORDER BY block_id\n",
    "\"\"\"\n",
    "client.query(sql)"
   ]
  },
  {
   "cell_type": "code",
   "execution_count": null,
   "id": "030bc0c9-bcf2-49b8-9282-cd21279496f5",
   "metadata": {},
   "outputs": [],
   "source": [
    "%%time\n",
    "now = datetime.datetime.now(datetime.timezone.utc)\n",
    "begin = now - datetime.timedelta(days=10)\n",
    "begin = datetime.datetime.combine(begin, datetime.time(), tzinfo=begin.tzinfo)\n",
    "end = datetime.datetime.combine(now, datetime.time(), tzinfo=now.tzinfo)\n",
    "client.retire_partitions('async_events', 'd35a4b40-7407-40cd-a1cf-c619124ee529', begin, end)"
   ]
  },
  {
   "cell_type": "code",
   "execution_count": null,
   "id": "1072ef3f-586f-4036-8a69-e32ddf301a98",
   "metadata": {},
   "outputs": [],
   "source": [
    "%%time\n",
    "sql = \"SELECT * FROM processes WHERE process_id='d35a4b40-7407-40cd-a1cf-c619124ee529'\"\n",
    "df = client.query(sql)\n",
    "df[\"tsc_frequency\"]"
   ]
  },
  {
   "cell_type": "code",
   "execution_count": null,
   "id": "5701a701-f16a-41da-9418-5b76543c4ced",
   "metadata": {
    "scrolled": true
   },
   "outputs": [],
   "source": [
    "%%time\n",
    "#backfill day-long partitions\n",
    "now = datetime.datetime.now(datetime.timezone.utc)\n",
    "begin = now - datetime.timedelta(days=10)\n",
    "begin = datetime.datetime.combine(begin, datetime.time(), tzinfo=begin.tzinfo)\n",
    "end = datetime.datetime.combine(now, datetime.time(), tzinfo=now.tzinfo)\n",
    "size = 60*60*24\n",
    "client.materialize_partitions( \"blocks\", begin, end, size )\n",
    "client.materialize_partitions( \"streams\", begin, end, size )\n",
    "client.materialize_partitions( \"processes\", begin, end, size )"
   ]
  }
 ],
 "metadata": {
  "kernelspec": {
   "display_name": "Python 3 (ipykernel)",
   "language": "python",
   "name": "python3"
  },
  "language_info": {
   "codemirror_mode": {
    "name": "ipython",
    "version": 3
   },
   "file_extension": ".py",
   "mimetype": "text/x-python",
   "name": "python",
   "nbconvert_exporter": "python",
   "pygments_lexer": "ipython3",
   "version": "3.12.3"
  }
 },
 "nbformat": 4,
 "nbformat_minor": 5
}
