{
 "cells": [
  {
   "cell_type": "code",
   "execution_count": null,
   "id": "6d364e56-ea88-43ac-96a0-a1c1ac4df211",
   "metadata": {},
   "outputs": [],
   "source": [
    "import micromegas\n",
    "import datetime\n",
    "import pandas as pd\n",
    "pd.set_option('display.max_colwidth', None)\n",
    "client = micromegas.connect()"
   ]
  },
  {
   "cell_type": "code",
   "execution_count": null,
   "id": "5701a701-f16a-41da-9418-5b76543c4ced",
   "metadata": {
    "scrolled": true
   },
   "outputs": [],
   "source": [
    "%%time\n",
    "#backfill day-long partitions\n",
    "now = datetime.datetime.now(datetime.timezone.utc)\n",
    "begin = now - datetime.timedelta(days=10)\n",
    "begin = datetime.datetime.combine(begin, datetime.time(), tzinfo=begin.tzinfo)\n",
    "end = datetime.datetime.combine(now, datetime.time(), tzinfo=now.tzinfo)\n",
    "size = 60*60*24\n",
    "client.materialize_partitions( \"blocks\", begin, end, size )\n",
    "client.materialize_partitions( \"streams\", begin, end, size )\n",
    "client.materialize_partitions( \"processes\", begin, end, size )"
   ]
  }
 ],
 "metadata": {
  "kernelspec": {
   "display_name": "Python 3 (ipykernel)",
   "language": "python",
   "name": "python3"
  },
  "language_info": {
   "codemirror_mode": {
    "name": "ipython",
    "version": 3
   },
   "file_extension": ".py",
   "mimetype": "text/x-python",
   "name": "python",
   "nbconvert_exporter": "python",
   "pygments_lexer": "ipython3",
   "version": "3.10.12"
  }
 },
 "nbformat": 4,
 "nbformat_minor": 5
}
