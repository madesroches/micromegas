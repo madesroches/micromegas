{
 "cells": [
  {
   "cell_type": "code",
   "execution_count": null,
   "id": "6d364e56-ea88-43ac-96a0-a1c1ac4df211",
   "metadata": {},
   "outputs": [],
   "source": [
    "import micromegas\n",
    "import datetime\n",
    "import pandas as pd\n",
    "pd.set_option('display.max_colwidth', None)\n",
    "client = micromegas.connect()"
   ]
  },
  {
   "cell_type": "code",
   "execution_count": 18,
   "id": "9d39d459-726d-4d67-821f-3272f2a818da",
   "metadata": {
    "scrolled": true
   },
   "outputs": [
    {
     "name": "stdout",
     "output_type": "stream",
     "text": [
      "2025-08-28 18:17:52.573016276+00:00 adding out of date partition views/async_events/f126ae57-7066-4f68-9378-235079bbb433/2025-08-28/17-47-29_34671ddf-553b-4d2f-9d8d-5b53a02cedfe.parquet to temporary files to be deleted\n",
      "2025-08-28 18:17:52.573353871+00:00 adding out of date partition views/async_events/f126ae57-7066-4f68-9378-235079bbb433/2025-08-28/17-47-29_d950cc9a-24dd-4ce7-b19d-e57b734396ec.parquet to temporary files to be deleted\n",
      "2025-08-28 18:17:52.573572661+00:00 adding out of date partition views/async_events/f126ae57-7066-4f68-9378-235079bbb433/2025-08-28/17-47-29_6dad303d-7d7d-4ce1-97a5-0888dc688b49.parquet to temporary files to be deleted\n",
      "2025-08-28 18:17:52.573825019+00:00 adding out of date partition views/async_events/f126ae57-7066-4f68-9378-235079bbb433/2025-08-28/17-47-29_671efa0d-74fe-423e-883b-5031cfb46243.parquet to temporary files to be deleted\n",
      "2025-08-28 18:17:52.574020625+00:00 adding out of date partition views/async_events/f126ae57-7066-4f68-9378-235079bbb433/2025-08-28/17-47-29_355163af-9477-40a0-bfc3-a960c863656c.parquet to temporary files to be deleted\n",
      "2025-08-28 18:17:52.574346819+00:00 adding out of date partition views/async_events/f126ae57-7066-4f68-9378-235079bbb433/2025-08-28/17-47-29_3fed3e9c-65b5-42cf-839c-d2156d62442b.parquet to temporary files to be deleted\n",
      "2025-08-28 18:17:52.574573506+00:00 adding out of date partition views/async_events/f126ae57-7066-4f68-9378-235079bbb433/2025-08-28/17-47-30_ad675da6-2842-4811-80e2-fa4598610e1c.parquet to temporary files to be deleted\n",
      "CPU times: user 6.93 ms, sys: 274 μs, total: 7.21 ms\n",
      "Wall time: 14.2 ms\n"
     ]
    }
   ],
   "source": [
    "%%time\n",
    "sql = \"\"\"\n",
    "SELECT view_set_name, view_instance_id, min(begin_insert_time) as begin, max(end_insert_time) as end\n",
    "FROM list_partitions()\n",
    "where view_instance_id != 'global'\n",
    "group by view_set_name, view_instance_id\n",
    "\"\"\"\n",
    "df_instances = client.query(sql)\n",
    "for _, row in df_instances.iterrows():\n",
    "    client.retire_partitions(row[\"view_set_name\"], row[\"view_instance_id\"], row[\"begin\"], row[\"end\"])"
   ]
  },
  {
   "cell_type": "code",
   "execution_count": null,
   "id": "030bc0c9-bcf2-49b8-9282-cd21279496f5",
   "metadata": {},
   "outputs": [],
   "source": [
    "%%time\n",
    "now = datetime.datetime.now(datetime.timezone.utc)\n",
    "begin = now - datetime.timedelta(days=10)\n",
    "begin = datetime.datetime.combine(begin, datetime.time(), tzinfo=begin.tzinfo)\n",
    "end = datetime.datetime.combine(now, datetime.time(), tzinfo=now.tzinfo)\n",
    "client.retire_partitions('async_events', 'd35a4b40-7407-40cd-a1cf-c619124ee529', begin, end)"
   ]
  },
  {
   "cell_type": "code",
   "execution_count": null,
   "id": "1072ef3f-586f-4036-8a69-e32ddf301a98",
   "metadata": {},
   "outputs": [],
   "source": [
    "%%time\n",
    "sql = \"SELECT * FROM processes WHERE process_id='d35a4b40-7407-40cd-a1cf-c619124ee529'\"\n",
    "df = client.query(sql)\n",
    "df[\"tsc_frequency\"]"
   ]
  },
  {
   "cell_type": "code",
   "execution_count": null,
   "id": "5701a701-f16a-41da-9418-5b76543c4ced",
   "metadata": {
    "scrolled": true
   },
   "outputs": [],
   "source": [
    "%%time\n",
    "#backfill day-long partitions\n",
    "now = datetime.datetime.now(datetime.timezone.utc)\n",
    "begin = now - datetime.timedelta(days=10)\n",
    "begin = datetime.datetime.combine(begin, datetime.time(), tzinfo=begin.tzinfo)\n",
    "end = datetime.datetime.combine(now, datetime.time(), tzinfo=now.tzinfo)\n",
    "size = 60*60*24\n",
    "client.materialize_partitions( \"blocks\", begin, end, size )\n",
    "client.materialize_partitions( \"streams\", begin, end, size )\n",
    "client.materialize_partitions( \"processes\", begin, end, size )"
   ]
  }
 ],
 "metadata": {
  "kernelspec": {
   "display_name": "Python 3 (ipykernel)",
   "language": "python",
   "name": "python3"
  },
  "language_info": {
   "codemirror_mode": {
    "name": "ipython",
    "version": 3
   },
   "file_extension": ".py",
   "mimetype": "text/x-python",
   "name": "python",
   "nbconvert_exporter": "python",
   "pygments_lexer": "ipython3",
   "version": "3.12.3"
  }
 },
 "nbformat": 4,
 "nbformat_minor": 5
}
