{
 "cells": [
  {
   "cell_type": "code",
   "execution_count": 2,
   "id": "4d832838-114b-4abc-8ddc-ed6fa2c69a13",
   "metadata": {},
   "outputs": [],
   "source": [
    "import micromegas\n",
    "import datetime\n",
    "import pandas as pd\n",
    "import pyarrow as pa\n",
    "pd.set_option('display.max_colwidth', None)\n",
    "client = micromegas.connect()"
   ]
  },
  {
   "cell_type": "code",
   "execution_count": null,
   "id": "872cfb93-53d0-402c-80de-9d671742ca1d",
   "metadata": {},
   "outputs": [],
   "source": [
    "sql = \"\"\"\n",
    "SELECT properties, count(*)\n",
    "FROM measures\n",
    "WHERE array_length(properties) > 0\n",
    "group by properties\n",
    "\"\"\"\n",
    "df = client.query(sql)\n",
    "df"
   ]
  },
  {
   "cell_type": "code",
   "execution_count": null,
   "id": "4b925d47-6385-44a7-b853-07d228ed912d",
   "metadata": {},
   "outputs": [],
   "source": [
    "sql = \"\"\"\n",
    "WITH md AS(\n",
    "SELECT properties_to_dict(properties) as dproperties, properties_length(properties) as nb\n",
    "FROM measures\n",
    ")\n",
    "SELECT properties_length(dproperties) as nbtest, nb, property_get(dproperties, 'target')\n",
    "FROM md\n",
    "\"\"\"\n",
    "print(\"sql:\", sql)\n",
    "df = client.query(sql)\n",
    "assert( (df[\"nbtest\"] == df[\"nb\"]).all() )\n",
    "display(df)"
   ]
  },
  {
   "cell_type": "code",
   "execution_count": 4,
   "id": "4d64173d-17ad-4708-be05-9aefe6c56bbf",
   "metadata": {},
   "outputs": [],
   "source": [
    "def inspect_dataframe_schema(df):\n",
    "      \"\"\"Complete inspection of DataFrame for dictionary encoding - handles complex types\"\"\"\n",
    "\n",
    "      print(\"=== DataFrame Schema Analysis ===\")\n",
    "      print(f\"Shape: {df.shape}\")\n",
    "      print(f\"Total memory: {df.memory_usage(deep=True).sum():,} bytes\")\n",
    "      print(\"\\nColumn Analysis:\")\n",
    "\n",
    "      for col in df.columns:\n",
    "          col_data = df[col]\n",
    "          memory = col_data.memory_usage(deep=True)\n",
    "\n",
    "          print(f\"\\nColumn: {col}\")\n",
    "          print(f\"  Dtype: {col_data.dtype}\")\n",
    "          print(f\"  Memory: {memory:,} bytes\")\n",
    "\n",
    "          # Modern way to check for categorical\n",
    "          if isinstance(col_data.dtype, pd.CategoricalDtype):\n",
    "              print(f\"  ✓ Categorical with {col_data.cat.categories.size} categories\")\n",
    "              print(f\"  Categories: {list(col_data.cat.categories)}\")\n",
    "\n",
    "          # Check for Arrow backing\n",
    "          if hasattr(col_data.dtype, 'pyarrow_dtype'):\n",
    "              arrow_type = col_data.dtype.pyarrow_dtype\n",
    "              print(f\"  ✓ Arrow-backed: {arrow_type}\")\n",
    "              if pa.types.is_dictionary(arrow_type):\n",
    "                  print(f\"  ✓ Arrow Dictionary: {arrow_type.index_type} -> {arrow_type.value_type}\")\n",
    "\n",
    "          # Safe unique count for complex types\n",
    "          try:\n",
    "              unique_count = col_data.nunique()\n",
    "              total_count = len(col_data)\n",
    "              print(f\"  Unique values: {unique_count:,} / {total_count:,} ({unique_count/total_count:.1%})\")\n",
    "          except (TypeError, ValueError) as e:\n",
    "              print(f\"  Unique count: Cannot compute (complex data type: {e.__class__.__name__})\")\n",
    "              total_count = len(col_data)\n",
    "              print(f\"  Total rows: {total_count:,}\")\n",
    "\n",
    "              # Try to inspect first few values\n",
    "              try:\n",
    "                  sample = col_data.iloc[0]\n",
    "                  print(f\"  Sample value type: {type(sample)}\")\n",
    "                  if hasattr(sample, 'shape'):\n",
    "                      print(f\"  Sample shape: {sample.shape}\")\n",
    "              except Exception as e2:\n",
    "                  print(f\"  Cannot inspect sample: {e2.__class__.__name__}\")"
   ]
  },
  {
   "cell_type": "code",
   "execution_count": 5,
   "id": "e57263af-70a9-4981-8739-e86eb815d5c2",
   "metadata": {},
   "outputs": [
    {
     "name": "stdout",
     "output_type": "stream",
     "text": [
      "sql: SELECT properties_to_dict(properties) as properties FROM measures\n",
      "schema: properties: list<Property: struct<key: string not null, value: string not null> not null>\n",
      "  child 0, Property: struct<key: string not null, value: string not null> not null\n",
      "      child 0, key: string not null\n",
      "      child 1, value: string not null\n",
      "=== DataFrame Schema Analysis ===\n",
      "Shape: (9380319, 1)\n",
      "Total memory: 1,125,638,412 bytes\n",
      "\n",
      "Column Analysis:\n",
      "\n",
      "Column: properties\n",
      "  Dtype: object\n",
      "  Memory: 1,125,638,412 bytes\n",
      "  Unique count: Cannot compute (complex data type: TypeError)\n",
      "  Total rows: 9,380,319\n",
      "  Sample value type: <class 'numpy.ndarray'>\n",
      "  Sample shape: (0,)\n"
     ]
    }
   ],
   "source": [
    "sql = \"SELECT properties_to_dict(properties) as properties FROM measures\"\n",
    "print(\"sql:\", sql)\n",
    "rbs = list(client.query_stream(sql))\n",
    "table = pa.Table.from_batches(rbs)\n",
    "print(\"schema:\", table.schema)\n",
    "inspect_dataframe_schema(table.to_pandas())"
   ]
  }
 ],
 "metadata": {
  "kernelspec": {
   "display_name": "Python 3 (ipykernel)",
   "language": "python",
   "name": "python3"
  },
  "language_info": {
   "codemirror_mode": {
    "name": "ipython",
    "version": 3
   },
   "file_extension": ".py",
   "mimetype": "text/x-python",
   "name": "python",
   "nbconvert_exporter": "python",
   "pygments_lexer": "ipython3",
   "version": "3.12.3"
  }
 },
 "nbformat": 4,
 "nbformat_minor": 5
}
