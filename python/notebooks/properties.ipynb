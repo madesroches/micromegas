{
 "cells": [
  {
   "cell_type": "code",
   "execution_count": null,
   "id": "4d832838-114b-4abc-8ddc-ed6fa2c69a13",
   "metadata": {},
   "outputs": [],
   "source": [
    "import micromegas\n",
    "import datetime\n",
    "import pandas as pd\n",
    "pd.set_option('display.max_colwidth', None)\n",
    "client = micromegas.connect()"
   ]
  },
  {
   "cell_type": "code",
   "execution_count": null,
   "id": "872cfb93-53d0-402c-80de-9d671742ca1d",
   "metadata": {},
   "outputs": [],
   "source": [
    "sql = \"\"\"\n",
    "SELECT properties, count(*)\n",
    "FROM measures\n",
    "WHERE array_length(properties) > 0\n",
    "group by properties\n",
    "\"\"\"\n",
    "df = client.query(sql)\n",
    "df"
   ]
  },
  {
   "cell_type": "code",
   "execution_count": null,
   "id": "4b925d47-6385-44a7-b853-07d228ed912d",
   "metadata": {},
   "outputs": [],
   "source": [
    "sql = \"\"\"\n",
    "WITH md AS(\n",
    "SELECT properties_to_dict(properties) as dproperties, properties_length(properties) as nb\n",
    "FROM measures\n",
    ")\n",
    "SELECT properties_length(dproperties) as nbtest, nb\n",
    "FROM md\n",
    "\"\"\"\n",
    "print(\"sql:\", sql)\n",
    "df = client.query(sql)\n",
    "assert( (df[\"nbtest\"] == df[\"nb\"]).all() )\n",
    "display(df)"
   ]
  }
 ],
 "metadata": {
  "kernelspec": {
   "display_name": "Python 3 (ipykernel)",
   "language": "python",
   "name": "python3"
  },
  "language_info": {
   "codemirror_mode": {
    "name": "ipython",
    "version": 3
   },
   "file_extension": ".py",
   "mimetype": "text/x-python",
   "name": "python",
   "nbconvert_exporter": "python",
   "pygments_lexer": "ipython3",
   "version": "3.12.3"
  }
 },
 "nbformat": 4,
 "nbformat_minor": 5
}
