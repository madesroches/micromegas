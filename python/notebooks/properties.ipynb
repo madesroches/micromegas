{
 "cells": [
  {
   "cell_type": "code",
   "execution_count": null,
   "id": "4d832838-114b-4abc-8ddc-ed6fa2c69a13",
   "metadata": {},
   "outputs": [],
   "source": [
    "import micromegas\n",
    "import datetime\n",
    "import pandas as pd\n",
    "import pyarrow as pa\n",
    "pd.set_option('display.max_colwidth', None)\n",
    "client = micromegas.connect(preserve_dictionary=True)"
   ]
  },
  {
   "cell_type": "code",
   "execution_count": null,
   "id": "872cfb93-53d0-402c-80de-9d671742ca1d",
   "metadata": {},
   "outputs": [],
   "source": [
    "sql = \"\"\"\n",
    "SELECT properties, count(*)\n",
    "FROM measures\n",
    "WHERE array_length(properties) > 0\n",
    "group by properties\n",
    "\"\"\"\n",
    "df = client.query(sql)\n",
    "df"
   ]
  },
  {
   "cell_type": "code",
   "execution_count": null,
   "id": "4b925d47-6385-44a7-b853-07d228ed912d",
   "metadata": {},
   "outputs": [],
   "source": [
    "sql = \"\"\"\n",
    "WITH md AS(\n",
    "SELECT properties_to_dict(properties) as dproperties, properties_length(properties) as nb\n",
    "FROM measures\n",
    ")\n",
    "SELECT properties_length(dproperties) as nbtest, nb, property_get(dproperties, 'target')\n",
    "FROM md\n",
    "\"\"\"\n",
    "print(\"sql:\", sql)\n",
    "df = client.query(sql)\n",
    "assert( (df[\"nbtest\"] == df[\"nb\"]).all() )\n",
    "display(df)"
   ]
  },
  {
   "cell_type": "code",
   "execution_count": null,
   "id": "e57263af-70a9-4981-8739-e86eb815d5c2",
   "metadata": {},
   "outputs": [],
   "source": [
    "sql = \"SELECT properties_to_dict(properties) as properties FROM measures\"\n",
    "print(\"sql:\", sql)\n",
    "table = client.query_arrow(sql)\n",
    "print(\"schema:\", table.schema)"
   ]
  },
  {
   "cell_type": "code",
   "execution_count": null,
   "id": "0c2855dd-392e-476d-a1a0-9a1e97ce92f8",
   "metadata": {},
   "outputs": [],
   "source": [
    "def analyze_memory(table):\n",
    "      def fmt_bytes(b):\n",
    "          return f\"{b/1024/1024:.2f} MB\" if b > 1024*1024 else f\"{b/1024:.1f} KB\"\n",
    "\n",
    "      print(f\"Total: {fmt_bytes(table.nbytes)} | Rows: {len(table):,}\")\n",
    "\n",
    "      for i, col in enumerate(table.columns):\n",
    "          name = table.column_names[i]\n",
    "          size = col.nbytes\n",
    "          print(f\"{name}: {fmt_bytes(size)} - {col.type}\")\n",
    "\n",
    "          # Dictionary details\n",
    "          if hasattr(col.type, 'value_type'):\n",
    "              if hasattr(col, 'chunks'):\n",
    "                  dict_size = sum(chunk.dictionary.nbytes for chunk in col.chunks)\n",
    "                  idx_size = sum(chunk.indices.nbytes for chunk in col.chunks)\n",
    "                  unique_count = sum(len(chunk.dictionary) for chunk in col.chunks)\n",
    "              else:\n",
    "                  dict_size = col.dictionary.nbytes\n",
    "                  idx_size = col.indices.nbytes\n",
    "                  unique_count = len(col.dictionary)\n",
    "\n",
    "              print(f\"  Dict: {fmt_bytes(dict_size)} | Indices: {fmt_bytes(idx_size)}\")\n",
    "              print(f\"  Unique values: {unique_count}\")"
   ]
  },
  {
   "cell_type": "code",
   "execution_count": null,
   "id": "572d021e-7f91-46e6-aa2f-5f59881bb288",
   "metadata": {},
   "outputs": [],
   "source": [
    "analyze_memory(table)"
   ]
  },
  {
   "cell_type": "code",
   "execution_count": null,
   "id": "29cec98b-db58-4d56-8476-3215a19c95c3",
   "metadata": {},
   "outputs": [],
   "source": [
    "def analyze_pandas_memory(df, description=\"DataFrame\"):\n",
    "      \"\"\"Analyze memory usage of a pandas DataFrame.\"\"\"\n",
    "\n",
    "      def fmt_bytes(b):\n",
    "          if b > 1024*1024:\n",
    "              return f\"{b/1024/1024:.2f} MB\"\n",
    "          elif b > 1024:\n",
    "              return f\"{b/1024:.1f} KB\"\n",
    "          else:\n",
    "              return f\"{b} B\"\n",
    "\n",
    "      print(f\"\\n=== {description} ===\")\n",
    "\n",
    "      # Overall info\n",
    "      total_memory = df.memory_usage(deep=True).sum()\n",
    "      print(f\"Total memory: {fmt_bytes(total_memory)}\")\n",
    "      print(f\"Shape: {df.shape[0]:,} rows × {df.shape[1]} columns\")\n",
    "      print(f\"Memory per row: {total_memory / len(df):.1f} bytes\")\n",
    "\n",
    "      # Column breakdown\n",
    "      memory_usage = df.memory_usage(deep=True)\n",
    "      print(f\"\\nColumn breakdown:\")\n",
    "\n",
    "      for i, col in enumerate(df.columns):\n",
    "          col_memory = memory_usage.iloc[i + 1]\n",
    "          col_dtype = df[col].dtype\n",
    "          print(f\"{col}: {fmt_bytes(col_memory)} ({col_dtype})\")\n",
    "\n",
    "          # Extra info for object columns (lists, dicts, etc.)\n",
    "          if col_dtype == 'object' and len(df) > 0:\n",
    "              sample = df[col].iloc[0]\n",
    "              if hasattr(sample, '__len__') and not isinstance(sample, str):\n",
    "                  avg_len = df[col].apply(lambda x: len(x) if hasattr(x, '__len__') else 0).mean()\n",
    "                  print(f\"  Average length: {avg_len:.1f}\")"
   ]
  },
  {
   "cell_type": "code",
   "execution_count": null,
   "id": "5cc19122-10ad-4fe5-97a3-d6c43a92048e",
   "metadata": {},
   "outputs": [],
   "source": [
    "sql = \"SELECT properties_to_dict(properties) as properties FROM measures\"\n",
    "print(\"sql:\", sql)\n",
    "df = client.query(sql)\n"
   ]
  },
  {
   "cell_type": "code",
   "execution_count": null,
   "id": "1c166fa9-2e2f-44e4-b7e7-b84e66a5fed4",
   "metadata": {},
   "outputs": [],
   "source": [
    "analyze_pandas_memory(df)"
   ]
  }
 ],
 "metadata": {
  "kernelspec": {
   "display_name": "Python 3 (ipykernel)",
   "language": "python",
   "name": "python3"
  },
  "language_info": {
   "codemirror_mode": {
    "name": "ipython",
    "version": 3
   },
   "file_extension": ".py",
   "mimetype": "text/x-python",
   "name": "python",
   "nbconvert_exporter": "python",
   "pygments_lexer": "ipython3",
   "version": "3.12.3"
  }
 },
 "nbformat": 4,
 "nbformat_minor": 5
}
