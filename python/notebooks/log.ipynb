{
 "cells": [
  {
   "cell_type": "code",
   "execution_count": null,
   "id": "bdaf9cd8-0b9a-4272-af93-065d4b72037e",
   "metadata": {},
   "outputs": [],
   "source": [
    "import datetime\n",
    "import pandas as pd\n",
    "import micromegas\n",
    "pd.set_option('display.max_rows', 30)\n",
    "client = micromegas.connect()"
   ]
  },
  {
   "cell_type": "code",
   "execution_count": null,
   "id": "d2051daf-5483-4846-8691-f0ef12eca168",
   "metadata": {},
   "outputs": [],
   "source": [
    "%%time\n",
    "now = datetime.datetime.now(datetime.timezone.utc)\n",
    "begin = now - datetime.timedelta(minutes=5)\n",
    "end = now\n",
    "sql = \"\"\"\n",
    "SELECT time, level, exe, target, msg\n",
    "FROM log_entries\n",
    "ORDER BY time DESC\n",
    "limit 10\n",
    "\"\"\"\n",
    "client.query(sql, begin, end)"
   ]
  }
 ],
 "metadata": {
  "kernelspec": {
   "display_name": "Python 3 (ipykernel)",
   "language": "python",
   "name": "python3"
  },
  "language_info": {
   "codemirror_mode": {
    "name": "ipython",
    "version": 3
   },
   "file_extension": ".py",
   "mimetype": "text/x-python",
   "name": "python",
   "nbconvert_exporter": "python",
   "pygments_lexer": "ipython3",
   "version": "3.12.3"
  }
 },
 "nbformat": 4,
 "nbformat_minor": 5
}
