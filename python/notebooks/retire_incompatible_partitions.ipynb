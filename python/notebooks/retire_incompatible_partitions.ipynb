{
 "cells": [
  {
   "cell_type": "code",
   "execution_count": null,
   "id": "bcb30c56-6bfc-4038-99aa-2895f9ebd67d",
   "metadata": {},
   "outputs": [],
   "source": [
    "import micromegas\n",
    "import datetime\n",
    "import pandas as pd\n",
    "import pyarrow as pa\n",
    "pd.set_option('display.max_colwidth', None)\n",
    "client = micromegas.connect(preserve_dictionary=True)"
   ]
  },
  {
   "cell_type": "code",
   "execution_count": null,
   "id": "fe5a4e25-4fc5-4115-bb11-cf27e8f33171",
   "metadata": {},
   "outputs": [],
   "source": [
    "micromegas.admin.list_incompatible_partitions(client)"
   ]
  },
  {
   "cell_type": "code",
   "execution_count": null,
   "id": "7c91a9b1-5a40-438b-b87e-1db5e0a65e92",
   "metadata": {},
   "outputs": [],
   "source": [
    "micromegas.admin.retire_incompatible_partitions(client)"
   ]
  }
 ],
 "metadata": {
  "kernelspec": {
   "display_name": "Python 3 (ipykernel)",
   "language": "python",
   "name": "python3"
  },
  "language_info": {
   "codemirror_mode": {
    "name": "ipython",
    "version": 3
   },
   "file_extension": ".py",
   "mimetype": "text/x-python",
   "name": "python",
   "nbconvert_exporter": "python",
   "pygments_lexer": "ipython3",
   "version": "3.12.3"
  }
 },
 "nbformat": 4,
 "nbformat_minor": 5
}
