{
 "cells": [
  {
   "cell_type": "code",
   "execution_count": null,
   "id": "0a379aae-133c-49c5-9e60-afbec8c26a4e",
   "metadata": {},
   "outputs": [],
   "source": [
    "import datetime\n",
    "import pandas as pd\n",
    "import micromegas\n",
    "pd.set_option('display.max_rows', 500)\n",
    "client = micromegas.connect()"
   ]
  },
  {
   "cell_type": "code",
   "execution_count": null,
   "id": "594a2af9-9dbc-4f3f-b62a-340d2760b8e0",
   "metadata": {},
   "outputs": [],
   "source": [
    "%%time\n",
    "sql = \"\"\"\n",
    "SELECT process_id, \"processes.exe\" as exe, SUM(payload_size) as sum_payload_size\n",
    "FROM blocks\n",
    "WHERE array_has(blocks.\"streams.tags\", 'cpu')\n",
    "GROUP by process_id, exe\n",
    "ORDER BY 2 DESC\n",
    "LIMIT 10\n",
    "\"\"\"\n",
    "client.query(sql)"
   ]
  },
  {
   "cell_type": "code",
   "execution_count": null,
   "id": "69c813dd-c2e8-4e14-b5e5-b03b5806115b",
   "metadata": {},
   "outputs": [],
   "source": [
    "%%time\n",
    "sql = \"\"\"\n",
    "SELECT *\n",
    "FROM processes\n",
    "WHERE exe ilike '%flight%'\n",
    "order by start_time DESC\n",
    "limit 2\n",
    "\"\"\"\n",
    "client.query(sql)"
   ]
  },
  {
   "cell_type": "code",
   "execution_count": null,
   "id": "0bb14b2a-b8a9-40c8-806a-49db8cc1a876",
   "metadata": {},
   "outputs": [],
   "source": [
    "sql = \"\"\"\n",
    "      WITH begin_events AS (\n",
    "            SELECT span_id, time as begin_time, name, filename, target, line\n",
    "            FROM view_instance('async_events', '{process_id}')\n",
    "            WHERE event_type = 'begin'\n",
    "        ),\n",
    "        end_events AS (\n",
    "            SELECT span_id, time as end_time\n",
    "            FROM view_instance('async_events', '{process_id}')\n",
    "            WHERE event_type = 'end'\n",
    "        )\n",
    "        SELECT \n",
    "            b.span_id,\n",
    "            b.begin_time,\n",
    "            e.end_time,\n",
    "            b.name,\n",
    "            b.filename,\n",
    "            b.target,\n",
    "            b.line\n",
    "        FROM begin_events b\n",
    "        INNER JOIN end_events e ON b.span_id = e.span_id\n",
    "        ORDER BY b.begin_time\n",
    "  ;\"\"\".format( process_id = \"d35a4b40-7407-40cd-a1cf-c619124ee529\" )\n",
    "df = client.query(sql)"
   ]
  },
  {
   "cell_type": "code",
   "execution_count": null,
   "id": "2d78d679-7fd0-4127-85eb-f66cdbfac9f1",
   "metadata": {},
   "outputs": [],
   "source": [
    "df[\"duration\"] = df[\"end_time\"] - df[\"begin_time\"]"
   ]
  },
  {
   "cell_type": "code",
   "execution_count": null,
   "id": "8cf9b18a-7e1e-40d6-9ba2-590816b7ea5f",
   "metadata": {},
   "outputs": [],
   "source": [
    "df[\"duration\"].min()"
   ]
  }
 ],
 "metadata": {
  "kernelspec": {
   "display_name": "Python 3 (ipykernel)",
   "language": "python",
   "name": "python3"
  },
  "language_info": {
   "codemirror_mode": {
    "name": "ipython",
    "version": 3
   },
   "file_extension": ".py",
   "mimetype": "text/x-python",
   "name": "python",
   "nbconvert_exporter": "python",
   "pygments_lexer": "ipython3",
   "version": "3.12.3"
  }
 },
 "nbformat": 4,
 "nbformat_minor": 5
}
