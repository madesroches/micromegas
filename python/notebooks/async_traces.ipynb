{
 "cells": [
  {
   "cell_type": "code",
   "execution_count": null,
   "id": "0a379aae-133c-49c5-9e60-afbec8c26a4e",
   "metadata": {},
   "outputs": [],
   "source": [
    "import datetime\n",
    "import pandas as pd\n",
    "import micromegas\n",
    "\n",
    "client = micromegas.connect()"
   ]
  },
  {
   "cell_type": "code",
   "execution_count": null,
   "id": "13335687-33ae-4c05-99d5-72cfad7c443e",
   "metadata": {},
   "outputs": [],
   "source": [
    "%%time\n",
    "client.query( \"SELECT * FROM processes WHERE exe ilike '%generator%' order by start_time DESC limit 1\" )"
   ]
  },
  {
   "cell_type": "code",
   "execution_count": null,
   "id": "24b27ce9-a030-4298-8792-0ddb0e4c2a0e",
   "metadata": {},
   "outputs": [],
   "source": [
    "sql = \"\"\"\n",
    "SELECT nb_objects\n",
    "FROM blocks\n",
    "WHERE process_id = 'e59b41f5-142e-4d58-8dd4-347da0c8d8a8'\n",
    "AND array_has(\"streams.tags\", 'cpu')\n",
    ";\n",
    "\"\"\"\n",
    "client.query(sql)"
   ]
  },
  {
   "cell_type": "code",
   "execution_count": null,
   "id": "0bb14b2a-b8a9-40c8-806a-49db8cc1a876",
   "metadata": {},
   "outputs": [],
   "source": [
    "sql = \"\"\"\n",
    "SELECT *\n",
    "FROM view_instance('async_events', 'e59b41f5-142e-4d58-8dd4-347da0c8d8a8')\n",
    "ORDER BY time\n",
    ";\"\"\"\n",
    "client.query(sql)"
   ]
  }
 ],
 "metadata": {
  "kernelspec": {
   "display_name": "Python 3 (ipykernel)",
   "language": "python",
   "name": "python3"
  },
  "language_info": {
   "codemirror_mode": {
    "name": "ipython",
    "version": 3
   },
   "file_extension": ".py",
   "mimetype": "text/x-python",
   "name": "python",
   "nbconvert_exporter": "python",
   "pygments_lexer": "ipython3",
   "version": "3.12.3"
  }
 },
 "nbformat": 4,
 "nbformat_minor": 5
}
